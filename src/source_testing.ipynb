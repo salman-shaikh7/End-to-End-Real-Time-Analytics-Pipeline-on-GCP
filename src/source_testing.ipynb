{
 "cells": [
  {
   "cell_type": "markdown",
   "metadata": {},
   "source": [
    "## About data source (API)\n",
    "\n",
    "**Random User Generator** \\\n",
    "\n",
    "A free, open-source API for generating random user data. Like Lorem Ipsum, but for people."
   ]
  },
  {
   "cell_type": "code",
   "execution_count": 1,
   "metadata": {},
   "outputs": [],
   "source": [
    "import requests\n",
    "import json\n",
    "from google.cloud import pubsub_v1\n",
    "import time "
   ]
  },
  {
   "cell_type": "code",
   "execution_count": 2,
   "metadata": {},
   "outputs": [
    {
     "data": {
      "text/plain": [
       "{'results': [{'gender': 'male',\n",
       "   'name': {'title': 'Mr', 'first': 'سورنا', 'last': 'کریمی'},\n",
       "   'location': {'street': {'number': 1927, 'name': 'فلسطین'},\n",
       "    'city': 'رشت',\n",
       "    'state': 'البرز',\n",
       "    'country': 'Iran',\n",
       "    'postcode': 14113,\n",
       "    'coordinates': {'latitude': '21.2022', 'longitude': '-77.1135'},\n",
       "    'timezone': {'offset': '+6:00', 'description': 'Almaty, Dhaka, Colombo'}},\n",
       "   'email': 'swrn.khrymy@example.com',\n",
       "   'login': {'uuid': '7dc39620-d0a7-4635-bce9-b9f1cb25ffd7',\n",
       "    'username': 'tinymeercat723',\n",
       "    'password': 'rocker',\n",
       "    'salt': '2dODxpwo',\n",
       "    'md5': '3b2097acd3a501b2f003b11c725806c9',\n",
       "    'sha1': '7d439cee7931848e265fddd3276cd38b061e16c0',\n",
       "    'sha256': '850c5b638a97a5c7029bda5b806b8681e7627358f528a2f7f2a5a04553f8dc26'},\n",
       "   'dob': {'date': '1977-06-25T10:00:07.600Z', 'age': 47},\n",
       "   'registered': {'date': '2022-02-01T20:02:44.011Z', 'age': 2},\n",
       "   'phone': '077-13998489',\n",
       "   'cell': '0932-099-4426',\n",
       "   'id': {'name': '', 'value': None},\n",
       "   'picture': {'large': 'https://randomuser.me/api/portraits/men/9.jpg',\n",
       "    'medium': 'https://randomuser.me/api/portraits/med/men/9.jpg',\n",
       "    'thumbnail': 'https://randomuser.me/api/portraits/thumb/men/9.jpg'},\n",
       "   'nat': 'IR'}],\n",
       " 'info': {'seed': '8100dcd4c18e5a23',\n",
       "  'results': 1,\n",
       "  'page': 1,\n",
       "  'version': '1.4'}}"
      ]
     },
     "execution_count": 2,
     "metadata": {},
     "output_type": "execute_result"
    }
   ],
   "source": [
    "requests.get(\"https://randomuser.me/api/\").json()\n"
   ]
  },
  {
   "cell_type": "code",
   "execution_count": 3,
   "metadata": {},
   "outputs": [],
   "source": [
    "data=requests.get(\"https://randomuser.me/api/\").json()"
   ]
  },
  {
   "cell_type": "code",
   "execution_count": 4,
   "metadata": {},
   "outputs": [
    {
     "data": {
      "text/plain": [
       "dict"
      ]
     },
     "execution_count": 4,
     "metadata": {},
     "output_type": "execute_result"
    }
   ],
   "source": [
    "type(data)"
   ]
  },
  {
   "cell_type": "code",
   "execution_count": 6,
   "metadata": {},
   "outputs": [],
   "source": [
    "user_data=data['results']"
   ]
  },
  {
   "cell_type": "code",
   "execution_count": 7,
   "metadata": {},
   "outputs": [
    {
     "data": {
      "text/plain": [
       "[{'gender': 'female',\n",
       "  'name': {'title': 'Ms', 'first': 'Holly', 'last': 'Cox'},\n",
       "  'location': {'street': {'number': 5365, 'name': \"O'Connell Avenue\"},\n",
       "   'city': 'Thurles',\n",
       "   'state': 'Leitrim',\n",
       "   'country': 'Ireland',\n",
       "   'postcode': 94442,\n",
       "   'coordinates': {'latitude': '3.9536', 'longitude': '175.6475'},\n",
       "   'timezone': {'offset': '-6:00',\n",
       "    'description': 'Central Time (US & Canada), Mexico City'}},\n",
       "  'email': 'holly.cox@example.com',\n",
       "  'login': {'uuid': '62f388e8-f066-42d0-8546-e32d60a61812',\n",
       "   'username': 'happytiger285',\n",
       "   'password': 'dirtbike',\n",
       "   'salt': 'byyi1dHv',\n",
       "   'md5': '58e9c789add1cf70c7a000bc78271b98',\n",
       "   'sha1': '38a7a27484ef11f09e1d81564fe19dc15d157487',\n",
       "   'sha256': '767f5dc94985c71e020a1a10a6221b80288202873087148b74499b1f5543bea8'},\n",
       "  'dob': {'date': '1953-05-05T03:18:21.485Z', 'age': 71},\n",
       "  'registered': {'date': '2018-09-29T06:08:16.173Z', 'age': 6},\n",
       "  'phone': '011-641-5012',\n",
       "  'cell': '081-906-6087',\n",
       "  'id': {'name': 'PPS', 'value': '7318040T'},\n",
       "  'picture': {'large': 'https://randomuser.me/api/portraits/women/41.jpg',\n",
       "   'medium': 'https://randomuser.me/api/portraits/med/women/41.jpg',\n",
       "   'thumbnail': 'https://randomuser.me/api/portraits/thumb/women/41.jpg'},\n",
       "  'nat': 'IE'}]"
      ]
     },
     "execution_count": 7,
     "metadata": {},
     "output_type": "execute_result"
    }
   ],
   "source": [
    "user_data"
   ]
  },
  {
   "cell_type": "markdown",
   "metadata": {},
   "source": [
    "Converting from dict to **bytes** for **pub/sub** as pub sub won't accept **dict** datatype."
   ]
  },
  {
   "cell_type": "code",
   "execution_count": 8,
   "metadata": {},
   "outputs": [],
   "source": [
    "message_json = json.dumps(user_data) # Firstly convert to str for encoding\n",
    "message_bytes = message_json.encode(\"utf-8\")"
   ]
  },
  {
   "cell_type": "code",
   "execution_count": 9,
   "metadata": {},
   "outputs": [
    {
     "data": {
      "text/plain": [
       "(str, bytes)"
      ]
     },
     "execution_count": 9,
     "metadata": {},
     "output_type": "execute_result"
    }
   ],
   "source": [
    "type(message_json),type(message_bytes)"
   ]
  },
  {
   "cell_type": "markdown",
   "metadata": {},
   "source": [
    "This **message_bytes** can be published to pub/sub."
   ]
  },
  {
   "cell_type": "code",
   "execution_count": null,
   "metadata": {},
   "outputs": [],
   "source": []
  }
 ],
 "metadata": {
  "kernelspec": {
   "display_name": "Data_Mining",
   "language": "python",
   "name": "python3"
  },
  "language_info": {
   "codemirror_mode": {
    "name": "ipython",
    "version": 3
   },
   "file_extension": ".py",
   "mimetype": "text/x-python",
   "name": "python",
   "nbconvert_exporter": "python",
   "pygments_lexer": "ipython3",
   "version": "3.11.5"
  }
 },
 "nbformat": 4,
 "nbformat_minor": 2
}
