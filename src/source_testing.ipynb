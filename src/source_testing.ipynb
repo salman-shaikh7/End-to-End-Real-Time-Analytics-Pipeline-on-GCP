{
 "cells": [
  {
   "cell_type": "markdown",
   "metadata": {},
   "source": [
    "## About data source (API)\n",
    "\n",
    "**Random User Generator** \\\n",
    "\n",
    "A free, open-source API for generating random user data. Like Lorem Ipsum, but for people."
   ]
  },
  {
   "cell_type": "code",
   "execution_count": 1,
   "metadata": {},
   "outputs": [],
   "source": [
    "import requests\n",
    "import json\n",
    "import time "
   ]
  },
  {
   "cell_type": "code",
   "execution_count": 2,
   "metadata": {},
   "outputs": [
    {
     "data": {
      "text/plain": [
       "{'results': [{'gender': 'male',\n",
       "   'name': {'title': 'Mr', 'first': 'اميرعلي', 'last': 'مرادی'},\n",
       "   'location': {'street': {'number': 8003, 'name': 'سمیه'},\n",
       "    'city': 'بوشهر',\n",
       "    'state': 'تهران',\n",
       "    'country': 'Iran',\n",
       "    'postcode': 46858,\n",
       "    'coordinates': {'latitude': '20.2424', 'longitude': '-72.2770'},\n",
       "    'timezone': {'offset': '-11:00', 'description': 'Midway Island, Samoa'}},\n",
       "   'email': 'myraaly.mrdy@example.com',\n",
       "   'login': {'uuid': '3a0c5436-dd72-4604-aafc-07ab5157d571',\n",
       "    'username': 'yellowpeacock104',\n",
       "    'password': 'oxford',\n",
       "    'salt': '1ZCizbqi',\n",
       "    'md5': '45eef2b51811df96c01aca6c34265946',\n",
       "    'sha1': 'e33b698e0dadd7bc4259226ad52ee42ae8f82a3c',\n",
       "    'sha256': '1b2a89bf31a6e597d5373bb4f54c96a828ee32879ac8463cbf9e4807baa5c40e'},\n",
       "   'dob': {'date': '1972-04-21T06:15:59.554Z', 'age': 52},\n",
       "   'registered': {'date': '2015-04-30T03:01:52.857Z', 'age': 9},\n",
       "   'phone': '031-34834007',\n",
       "   'cell': '0965-124-9854',\n",
       "   'id': {'name': '', 'value': None},\n",
       "   'picture': {'large': 'https://randomuser.me/api/portraits/men/72.jpg',\n",
       "    'medium': 'https://randomuser.me/api/portraits/med/men/72.jpg',\n",
       "    'thumbnail': 'https://randomuser.me/api/portraits/thumb/men/72.jpg'},\n",
       "   'nat': 'IR'}],\n",
       " 'info': {'seed': 'd7616fb75a8440ac',\n",
       "  'results': 1,\n",
       "  'page': 1,\n",
       "  'version': '1.4'}}"
      ]
     },
     "execution_count": 2,
     "metadata": {},
     "output_type": "execute_result"
    }
   ],
   "source": [
    "requests.get(\"https://randomuser.me/api/\").json()"
   ]
  },
  {
   "cell_type": "code",
   "execution_count": 3,
   "metadata": {},
   "outputs": [],
   "source": [
    "data=requests.get(\"https://randomuser.me/api/\").json()"
   ]
  },
  {
   "cell_type": "code",
   "execution_count": 4,
   "metadata": {},
   "outputs": [
    {
     "data": {
      "text/plain": [
       "dict"
      ]
     },
     "execution_count": 4,
     "metadata": {},
     "output_type": "execute_result"
    }
   ],
   "source": [
    "type(data)"
   ]
  },
  {
   "cell_type": "code",
   "execution_count": 6,
   "metadata": {},
   "outputs": [],
   "source": [
    "user_data=data['results']"
   ]
  },
  {
   "cell_type": "code",
   "execution_count": 7,
   "metadata": {},
   "outputs": [
    {
     "data": {
      "text/plain": [
       "[{'gender': 'female',\n",
       "  'name': {'title': 'Ms', 'first': 'Holly', 'last': 'Cox'},\n",
       "  'location': {'street': {'number': 5365, 'name': \"O'Connell Avenue\"},\n",
       "   'city': 'Thurles',\n",
       "   'state': 'Leitrim',\n",
       "   'country': 'Ireland',\n",
       "   'postcode': 94442,\n",
       "   'coordinates': {'latitude': '3.9536', 'longitude': '175.6475'},\n",
       "   'timezone': {'offset': '-6:00',\n",
       "    'description': 'Central Time (US & Canada), Mexico City'}},\n",
       "  'email': 'holly.cox@example.com',\n",
       "  'login': {'uuid': '62f388e8-f066-42d0-8546-e32d60a61812',\n",
       "   'username': 'happytiger285',\n",
       "   'password': 'dirtbike',\n",
       "   'salt': 'byyi1dHv',\n",
       "   'md5': '58e9c789add1cf70c7a000bc78271b98',\n",
       "   'sha1': '38a7a27484ef11f09e1d81564fe19dc15d157487',\n",
       "   'sha256': '767f5dc94985c71e020a1a10a6221b80288202873087148b74499b1f5543bea8'},\n",
       "  'dob': {'date': '1953-05-05T03:18:21.485Z', 'age': 71},\n",
       "  'registered': {'date': '2018-09-29T06:08:16.173Z', 'age': 6},\n",
       "  'phone': '011-641-5012',\n",
       "  'cell': '081-906-6087',\n",
       "  'id': {'name': 'PPS', 'value': '7318040T'},\n",
       "  'picture': {'large': 'https://randomuser.me/api/portraits/women/41.jpg',\n",
       "   'medium': 'https://randomuser.me/api/portraits/med/women/41.jpg',\n",
       "   'thumbnail': 'https://randomuser.me/api/portraits/thumb/women/41.jpg'},\n",
       "  'nat': 'IE'}]"
      ]
     },
     "execution_count": 7,
     "metadata": {},
     "output_type": "execute_result"
    }
   ],
   "source": [
    "user_data"
   ]
  },
  {
   "cell_type": "markdown",
   "metadata": {},
   "source": [
    "Converting from dict to **bytes** for **pub/sub** as pub sub won't accept **dict** datatype."
   ]
  },
  {
   "cell_type": "code",
   "execution_count": 8,
   "metadata": {},
   "outputs": [],
   "source": [
    "message_json = json.dumps(user_data) # Firstly convert to str for encoding\n",
    "message_bytes = message_json.encode(\"utf-8\")"
   ]
  },
  {
   "cell_type": "code",
   "execution_count": 9,
   "metadata": {},
   "outputs": [
    {
     "data": {
      "text/plain": [
       "(str, bytes)"
      ]
     },
     "execution_count": 9,
     "metadata": {},
     "output_type": "execute_result"
    }
   ],
   "source": [
    "type(message_json),type(message_bytes)"
   ]
  },
  {
   "cell_type": "markdown",
   "metadata": {},
   "source": [
    "This **message_bytes** can be published to pub/sub."
   ]
  },
  {
   "cell_type": "code",
   "execution_count": null,
   "metadata": {},
   "outputs": [],
   "source": []
  }
 ],
 "metadata": {
  "kernelspec": {
   "display_name": "Data_Mining",
   "language": "python",
   "name": "python3"
  },
  "language_info": {
   "codemirror_mode": {
    "name": "ipython",
    "version": 3
   },
   "file_extension": ".py",
   "mimetype": "text/x-python",
   "name": "python",
   "nbconvert_exporter": "python",
   "pygments_lexer": "ipython3",
   "version": "3.11.5"
  }
 },
 "nbformat": 4,
 "nbformat_minor": 2
}
